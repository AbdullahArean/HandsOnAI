{
 "cells": [
  {
   "cell_type": "markdown",
   "metadata": {},
   "source": [
    "# Introduction\n",
    "OpenAI Gym is a toolkit for developing and comparing reinforcement learning algorithms. It provides a wide variety of environments where agents can interact and learn from their experiences. In this report, we'll explore the basic functionality of OpenAI Gym, with a focus on two key methods: reset() and step()."
   ]
  },
  {
   "cell_type": "markdown",
   "metadata": {},
   "source": [
    "# Installation\n",
    "Before diving into the functionality, make sure you have OpenAI Gym installed. You can install it via pip:"
   ]
  },
  {
   "cell_type": "code",
   "execution_count": 1,
   "metadata": {},
   "outputs": [
    {
     "name": "stdout",
     "output_type": "stream",
     "text": [
      "Requirement already satisfied: gym in /opt/anaconda3/lib/python3.11/site-packages (0.26.2)\n",
      "Requirement already satisfied: tqdm in /opt/anaconda3/lib/python3.11/site-packages (4.65.0)\n",
      "Requirement already satisfied: pygame in /opt/anaconda3/lib/python3.11/site-packages (2.5.2)\n",
      "Requirement already satisfied: swig in /opt/anaconda3/lib/python3.11/site-packages (4.2.1)\n",
      "Requirement already satisfied: numpy>=1.18.0 in /opt/anaconda3/lib/python3.11/site-packages (from gym) (1.26.4)\n",
      "Requirement already satisfied: cloudpickle>=1.2.0 in /opt/anaconda3/lib/python3.11/site-packages (from gym) (2.2.1)\n",
      "Requirement already satisfied: gym-notices>=0.0.4 in /opt/anaconda3/lib/python3.11/site-packages (from gym) (0.0.8)\n"
     ]
    }
   ],
   "source": [
    "!pip install gym tqdm pygame swig"
   ]
  },
  {
   "cell_type": "markdown",
   "metadata": {},
   "source": [
    "# Creating our first gym environment\n",
    "\n",
    "Let's introduce one of the simplest environments called the frozen lake environment. The frozen lake environment is shown below. As we can observe, in the frozen lake environment, the goal of the agent is to start from the initial state S and reach the goal state G.\n",
    "\n",
    "![title](Images/1.png)\n",
    "\n",
    "In the above environment, the following applies:\n",
    "\n",
    "* S denotes the starting state\n",
    "* F denotes the frozen state\n",
    "* H denotes the hole state\n",
    "* G denotes the goal state\n",
    "\n",
    "So, the agent has to start from the state S and reach the goal state G. But one issue is that if the agent visits the state H, which is just the hole state, then the agent will fall into the hole and die as shown below:\n",
    "\n",
    "\n",
    "![title](Images/2.png)\n",
    "\n",
    "So, we need to make sure that the agent starts from S and reaches G without falling into the hole state H as shown below:\n",
    "\n",
    "\n",
    "![title](Images/3.png)\n",
    "Each grid box in the above environment is called state, thus we have 16 states (S to G) and we have 4 possible actions which are up, down, left and right. We learned that our goal is to reach the state G from S without visiting H. So, we assign reward as 0 to all the states and + 1 for the goal state G. \n",
    "\n",
    "Thus, we learned how the frozen lake environment works. Now, to train our agent in the frozen lake environment, first, we need to create the environment by coding it from scratch in Python. But luckily we don't have to do that! Since the gym provides the various environment, we can directly import the gym toolkit and create a frozen lake environment using the gym.\n",
    "\n",
    "\n",
    "Now, we will learn how to create our frozen lake environment using the gym. Before running any code, make sure that you activated our virtual environment universe. First, let's import the gym library:\n",
    "\n",
    "\n"
   ]
  },
  {
   "cell_type": "code",
   "execution_count": 2,
   "metadata": {},
   "outputs": [],
   "source": [
    "import gym"
   ]
  },
  {
   "cell_type": "markdown",
   "metadata": {},
   "source": [
    "\n",
    "Next, we can create a gym environment using the make function.  The make function requires the environment id as a parameter. In the gym, the id of the frozen lake environment is `FrozenLake-v0`. So, we can create our frozen lake environment as shown below:\n",
    "\n",
    "\n",
    "\n"
   ]
  },
  {
   "cell_type": "code",
   "execution_count": 3,
   "metadata": {},
   "outputs": [],
   "source": [
    "env = gym.make(\"FrozenLake-v1\",render_mode=\"human\")\n",
    "# environment = gym.make(\"FrozenLake-v1\", is_slippery=False, render_mode=\"human\", map_name=\"4x4\")\n"
   ]
  },
  {
   "cell_type": "markdown",
   "metadata": {},
   "source": [
    "After creating the environment, we can see how our environment looks like using the render function:"
   ]
  },
  {
   "cell_type": "markdown",
   "metadata": {},
   "source": [
    "# Reset() Function\n",
    "In OpenAI Gym, the `reset` method is a crucial part of the environment lifecycle, serving multiple purposes within the context of reinforcement learning. It is primarily used to initiate a new episode, resetting the environment to its initial state. This is essential because each episode in reinforcement learning starts with the agent in a specific state, and the `reset` method ensures that this starting condition is met. Additionally, `reset` is called after an episode ends, either when the agent reaches a terminal state or when the maximum number of time steps is reached. This allows for the continuation of training by starting a new episode from the initial state.\n",
    "\n",
    "Moreover, `reset` can also be used at the very beginning of training to establish the initial state for the first episode. This practice helps in setting up the environment correctly before the training loop begins. The `reset` method returns the initial observation and any auxiliary information required for the environment, which is crucial for the agent to understand its initial state and make informed decisions.\n",
    "\n"
   ]
  },
  {
   "cell_type": "code",
   "execution_count": 4,
   "metadata": {},
   "outputs": [
    {
     "name": "stderr",
     "output_type": "stream",
     "text": [
      "1   HIToolbox                           0x00000001ba4005c8 _ZN15MenuBarInstance22EnsureAutoShowObserverEv + 120\n",
      "2   HIToolbox                           0x00000001ba400188 _ZN15MenuBarInstance14EnableAutoShowEv + 60\n",
      "3   HIToolbox                           0x00000001ba3a3310 SetMenuBarObscured + 372\n",
      "4   HIToolbox                           0x00000001ba3a2ee8 _ZN13HIApplication15HandleActivatedEP14OpaqueEventRefhP15OpaqueWindowPtrh + 172\n",
      "5   HIToolbox                           0x00000001ba39cfcc _ZN13HIApplication13EventObserverEjP14OpaqueEventRefPv + 296\n",
      "6   HIToolbox                           0x00000001ba363cd0 _NotifyEventLoopObservers + 176\n",
      "7   HIToolbox                           0x00000001ba39c96c AcquireEventFromQueue + 432\n",
      "8   HIToolbox                           0x00000001ba38bc84 ReceiveNextEventCommon + 320\n",
      "9   HIToolbox                           0x00000001ba38bb2c _BlockUntilNextEventMatchingListInModeWithFilter + 72\n",
      "10  AppKit                              0x00000001b3f38424 _DPSNextEvent + 632\n",
      "11  AppKit                              0x00000001b3f375b4 -[NSApplication(NSEvent) _nextEventMatchingEventMask:untilDate:inMode:dequeue:] + 728\n",
      "12  libSDL2-2.0.0.dylib                 0x000000012c2e2a38 Cocoa_PumpEventsUntilDate + 192\n",
      "13  libSDL2-2.0.0.dylib                 0x000000012c2e2c6c Cocoa_PumpEvents + 56\n",
      "14  libSDL2-2.0.0.dylib                 0x000000012c237d10 SDL_PumpEvents_REAL + 40\n",
      "15  event.cpython-311-darwin.so         0x00000001076e3a54 pg_event_pump + 24\n",
      "16  python3.11                          0x0000000102cc141c cfunction_vectorcall_NOARGS + 88\n",
      "17  python3.11                          0x0000000102da17c4 _PyEval_EvalFrameDefault + 191820\n",
      "18  python3.11                          0x0000000102c5e3cc _PyFunction_Vectorcall + 476\n",
      "19  python3.11                          0x0000000102c63b5c method_vectorcall + 364\n",
      "20  python3.11                          0x0000000102da6024 _PyEval_EvalFrameDefault + 210348\n",
      "21  python3.11                          0x0000000102c5e3cc _PyFunction_Vectorcall + 476\n",
      "22  python3.11                          0x0000000102da6024 _PyEval_EvalFrameDefault + 210348\n",
      "23  python3.11                          0x0000000102c5e3cc _PyFunction_Vectorcall + 476\n",
      "24  python3.11                          0x0000000102c63b5c method_vectorcall + 364\n",
      "25  python3.11                          0x0000000102da6024 _PyEval_EvalFrameDefault + 210348\n",
      "26  python3.11                          0x0000000102c5e3cc _PyFunction_Vectorcall + 476\n",
      "27  python3.11                          0x0000000102c63b5c method_vectorcall + 364\n",
      "28  python3.11                          0x0000000102da6024 _PyEval_EvalFrameDefault + 210348\n",
      "29  python3.11                          0x0000000102d7043c _PyEval_Vector + 464\n",
      "30  python3.11                          0x0000000102d701dc PyEval_EvalCode + 248\n",
      "31  python3.11                          0x0000000102d6ae98 builtin_exec + 332\n",
      "32  python3.11                          0x0000000102da50c8 _PyEval_EvalFrameDefault + 206416\n",
      "33  python3.11                          0x0000000102c7aa58 gen_send_ex2 + 204\n",
      "34  python3.11                          0x0000000102d7e7f8 _PyEval_EvalFrameDefault + 48512\n",
      "35  python3.11                          0x0000000102c7aa58 gen_send_ex2 + 204\n",
      "36  python3.11                          0x0000000102d7e7f8 _PyEval_EvalFrameDefault + 48512\n",
      "37  python3.11                          0x0000000102c7aa58 gen_send_ex2 + 204\n",
      "38  python3.11                          0x0000000102c7b1b0 gen_send + 52\n",
      "39  python3.11                          0x0000000102c6f5d4 method_vectorcall_O + 104\n",
      "40  python3.11                          0x0000000102da17c4 _PyEval_EvalFrameDefault + 191820\n",
      "41  python3.11                          0x0000000102c5e3cc _PyFunction_Vectorcall + 476\n",
      "42  python3.11                          0x0000000102c63b18 method_vectorcall + 296\n",
      "43  python3.11                          0x0000000102da63f8 _PyEval_EvalFrameDefault + 211328\n",
      "44  python3.11                          0x0000000102c7aa58 gen_send_ex2 + 204\n",
      "45  python3.11                          0x0000000102d7e7f8 _PyEval_EvalFrameDefault + 48512\n",
      "46  python3.11                          0x0000000102c7aa58 gen_send_ex2 + 204\n",
      "47  python3.11                          0x0000000102d7e7f8 _PyEval_EvalFrameDefault + 48512\n",
      "48  python3.11                          0x0000000102c7aa58 gen_send_ex2 + 204\n",
      "49  python3.11                          0x0000000102d7e7f8 _PyEval_EvalFrameDefault + 48512\n",
      "50  python3.11                          0x0000000102c7aa58 gen_send_ex2 + 204\n",
      "51  python3.11                          0x0000000102d7e7f8 _PyEval_EvalFrameDefault + 48512\n",
      "52  python3.11                          0x0000000102c7aa58 gen_send_ex2 + 204\n",
      "53  _asyncio.cpython-311-darwin.so      0x0000000103d70370 task_step_impl + 440\n",
      "54  _asyncio.cpython-311-darwin.so      0x0000000103d70128 task_step + 68\n",
      "55  _asyncio.cpython-311-darwin.so      0x0000000103d70c30 task_wakeup + 136\n",
      "56  python3.11                          0x0000000102cc12cc cfunction_vectorcall_O + 92\n",
      "57  python3.11                          0x0000000102dc6d5c _PyObject_VectorcallTstate.4607 + 88\n",
      "58  python3.11                          0x0000000102dc6c20 context_run + 92\n",
      "59  python3.11                          0x0000000102cc1538 cfunction_vectorcall_FASTCALL_KEYWORDS + 76\n",
      "60  python3.11                          0x0000000102da64a0 _PyEval_EvalFrameDefault + 211496\n",
      "61  python3.11                          0x0000000102d7043c _PyEval_Vector + 464\n",
      "62  python3.11                          0x0000000102d701dc PyEval_EvalCode + 248\n",
      "63  python3.11                          0x0000000102d6ae98 builtin_exec + 332\n",
      "64  python3.11                          0x0000000102cc1538 cfunction_vectorcall_FASTCALL_KEYWORDS + 76\n",
      "65  python3.11                          0x0000000102da17c4 _PyEval_EvalFrameDefault + 191820\n",
      "66  python3.11                          0x0000000102c5e3cc _PyFunction_Vectorcall + 476\n",
      "67  python3.11                          0x0000000102e2849c pymain_run_module + 212\n",
      "68  python3.11                          0x0000000102e27fe8 Py_RunMain + 1520\n",
      "69  python3.11                          0x0000000102bf553c main + 56\n",
      "70  dyld                                0x00000001b08afe50 start + 2544\n"
     ]
    }
   ],
   "source": [
    "env.reset()\n",
    "env.render()"
   ]
  },
  {
   "cell_type": "markdown",
   "metadata": {},
   "source": [
    "\n",
    "As we can observe, the frozen lake environment consists of 16 states (S to G) as we learned. The state S is highlighted indicating that it is our current state, that is, agent is in the state S. So whenever we create an environment, an agent will always begin from the initial state, in our case, it is the state S. \n",
    "\n",
    "That's it! Creating the environment using the gym is that simple. In the next section, we will understand more about the gym environment by relating all the concepts we have learned in the previous chapter. \n",
    "\n",
    "\n",
    "\n",
    "\n",
    "\n",
    "## Exploring the environment\n",
    "\n",
    "In the previous chapter, we learned that the reinforcement learning environment can be modeled as the Markov decision process (MDP) and an MDP consists of the following: \n",
    "\n",
    "* __States__ -  A set of states present in the environment \n",
    "* __Actions__ - A set of actions that the agent can perform in each state. \n",
    "* __Transition probability__ - The transition probability is denoted by $P(s'|s,a) $. It implies the probability of moving from a state $s$ to the state $s'$ while performing an action $a$.\n",
    "* __Reward function__ - Reward function is denoted by $R(s,a,s')$. It implies the reward the agent obtains moving from a state $s$ to the state  $s'$ while performing an action $a$.\n",
    "\n",
    "Let's now understand how to obtain all the above information from the frozen lake environment we just created using the gym.\n",
    "\n",
    "\n",
    "\n",
    "## States\n",
    "A state space consists of all of our states. We can obtain the number of states in our environment by just typing `env.observation_space` as shown below:"
   ]
  },
  {
   "cell_type": "code",
   "execution_count": 5,
   "metadata": {},
   "outputs": [
    {
     "name": "stdout",
     "output_type": "stream",
     "text": [
      "Discrete(16)\n"
     ]
    }
   ],
   "source": [
    "print(env.observation_space)"
   ]
  },
  {
   "cell_type": "markdown",
   "metadata": {},
   "source": [
    "It implies that we have 16 discrete states in our state space starting from the state S to G. Note that, in the gym, the states will be encoded as a number, so the state S will be encoded as 0, state F will be encoded as 1 and so on as shown below:\n",
    "\n",
    "\n",
    "![title](Images/5.png)"
   ]
  },
  {
   "cell_type": "markdown",
   "metadata": {},
   "source": [
    "## Actions\n",
    "\n",
    "We learned that the action space consists of all the possible actions in the environment. We can obtain the action space by `env.action_space` as shown below:"
   ]
  },
  {
   "cell_type": "code",
   "execution_count": 6,
   "metadata": {},
   "outputs": [
    {
     "name": "stdout",
     "output_type": "stream",
     "text": [
      "Discrete(4)\n"
     ]
    }
   ],
   "source": [
    "print(env.action_space)"
   ]
  },
  {
   "cell_type": "markdown",
   "metadata": {},
   "source": [
    "It implies that we have 4 discrete actions in our action space which are left, down, right, up. Note that, similar to states, actions also will be encoded into numbers as shown below:\n",
    "\n",
    "\n",
    "![title](Images/6.PNG)"
   ]
  },
  {
   "cell_type": "markdown",
   "metadata": {},
   "source": [
    "# Step() Function\n",
    "The `step()` function in OpenAI Gym is a critical method used within the reinforcement learning framework to interact with the environment. When an agent takes an action in the environment, the `step()` function is called to execute that action and return the resulting state of the environment. The `step()` function is expected to return a tuple containing four values: observation, reward, done, and info.\n",
    "\n",
    "- **Observation**: This is the new state of the environment after the action has been taken. It represents the agent's view of the environment at the current time step.\n",
    "- **Reward**: This is the immediate reward given to the agent after taking the action. Rewards are used to guide the agent towards achieving its goal.\n",
    "- **Done**: This is a boolean value indicating whether the episode has ended. An episode ends when the agent reaches a terminal state or when a maximum number of steps has been reached.\n",
    "- **Info**: This is a dictionary containing additional information about the environment. This information can be useful for debugging or for providing extra details about the state of the environment."
   ]
  },
  {
   "cell_type": "markdown",
   "metadata": {},
   "source": [
    "## Transition probability and Reward function\n",
    "\n",
    "Now, let's look at how to obtain the transition probability and the reward function. We learned that in the stochastic environment, we cannot say that by performing some action $a$, agent will always reach the next state $s'$ exactly because there will be some randomness associated with the stochastic environment and by performing an action $a$ in the state $s$, agent reaches the next state  with some probability.\n",
    "\n",
    "Let's suppose we are in state 2 (F). Now if we perform action 1 (down) in state 2, we can reach the state 6 as shown below:\n",
    "\n",
    "\n",
    "![title](Images/7.png)\n",
    "\n",
    "Our frozen lake environment is a stochastic environment. When our environment is stochastic we won't always reach the state 6 by performing action 1(down) in state 2, we also reach other states with some probability. So when we perform an action 1 (down) in the state 2, we reach state 1 with probability 0.33333, we reach state 6 with probability 0.33333 and we reach the state 3 with probability 0.33333 as shown below:\n",
    "\n",
    "\n",
    "![title](Images/8.png)\n",
    "\n",
    "\n",
    "As we can notice, in the stochastic environment we reach the next states with some probability. Now, let's learn how to obtain this transition probability using the gym environment.  \n",
    "\n",
    "We can obtain the transition probability and the reward function by just typing `env.P[state][action]` So, in order to obtain the transition probability of moving from the state S to the other states by performing an action right, we can type, `env.P[S][right]`. But we cannot just type state S and action right directly since they are encoded into numbers. We learned that state S is encoded as 0 and the action right is encoded as 2, so, in order to obtain the transition probability of state S by performing an action right, we type `env.P[0][2]` as shown below:\n",
    "\n",
    "\n",
    "\n",
    "\n"
   ]
  },
  {
   "cell_type": "code",
   "execution_count": 7,
   "metadata": {},
   "outputs": [
    {
     "name": "stdout",
     "output_type": "stream",
     "text": [
      "[(0.3333333333333333, 4, 0.0, False), (0.3333333333333333, 1, 0.0, False), (0.3333333333333333, 0, 0.0, False)]\n"
     ]
    }
   ],
   "source": [
    "print(env.P[0][2])"
   ]
  },
  {
   "cell_type": "markdown",
   "metadata": {},
   "source": [
    "What does this imply? Our output is in the form of `[(transition probability, next state, reward, Is terminal state?)]` It implies that if we perform an action 2 (right) in state 0 (S) then:\n",
    "\n",
    "* We reach the state 4 (F) with probability 0.33333 and receive 0 reward. \n",
    "* We reach the state 1 (F) with probability 0.33333 and receive 0 reward.\n",
    "* We reach the same state 0 (S) with probability 0.33333 and receive 0 reward.\n",
    "\n",
    "The transition probability is shown below:\n",
    "\n",
    "\n",
    "\n",
    "![title](Images/9.png)"
   ]
  },
  {
   "cell_type": "markdown",
   "metadata": {},
   "source": [
    "Thus, when we type `env.P[state][action]` we get the result in the form of `[(transition probability, next state, reward, Is terminal state?)]`. The last value is the boolean and it implies that whether the next state is a terminal state, since 4, 1 and 0 are not the terminal states it is given as false. \n",
    "\n",
    "The output of `env.P[0][2]` is shown in the below table for more clarity:\n",
    "\n",
    "\n",
    "![title](Images/10.PNG)"
   ]
  },
  {
   "cell_type": "markdown",
   "metadata": {},
   "source": [
    "Let's understand this with one more example. Let's suppose we are in the state 3 (F) as shown below:\n",
    "\n",
    "\n",
    "![title](Images/11.png)\n",
    "\n",
    "Say, we perform action 1 (down) in the state 3(F). Then the transition probability of the state 3(F) by performing action 1(down) can be obtained as shown below:\n",
    "\n"
   ]
  },
  {
   "cell_type": "code",
   "execution_count": 8,
   "metadata": {},
   "outputs": [
    {
     "name": "stdout",
     "output_type": "stream",
     "text": [
      "[(0.3333333333333333, 2, 0.0, False), (0.3333333333333333, 7, 0.0, True), (0.3333333333333333, 3, 0.0, False)]\n"
     ]
    }
   ],
   "source": [
    "print(env.P[3][1])"
   ]
  },
  {
   "cell_type": "markdown",
   "metadata": {},
   "source": [
    "As we learned, our output is in the form of `[(transition probability, next state, reward, Is terminal state?)]` It implies that if we perform an action 1 (down) in state 3 (F) then:\n",
    "\n",
    "* We reach the state 2 (F) with probability 0.33333 and receive 0 reward. \n",
    "* We reach the state 7 (H) with probability 0.33333 and receive 0 reward.\n",
    "* We reach the same state 3 (F) with probability 0.33333 and receive 0 reward.\n",
    "\n",
    "\n",
    "The transition probability is shown below:\n",
    "\n",
    "\n",
    "\n",
    "![title](Images/12.png)"
   ]
  },
  {
   "cell_type": "markdown",
   "metadata": {},
   "source": [
    "\n",
    "The output of `env.P[3][1]` is shown in the below table for more clarity:\n",
    "\n",
    "\n",
    "![title](Images/13.PNG)"
   ]
  },
  {
   "cell_type": "markdown",
   "metadata": {},
   "source": [
    "As we can observe, in the second row of our output, we have, `(0.33333, 7, 0.0, True)`,and the last value here is marked as True. It implies that state 7 is a terminal state. That is, if we perform action 1(down) in state 3(F) then we reach the state 7(H) with 0.33333 probability and since 7(H) is a hole, the agent dies if it reaches the state 7(H). Thus 7(H) is a terminal state and so it is marked as True. \n",
    "\n",
    "Thus, we learned how to obtain the state space, action space, transition probability and the reward function using the gym environment. In the next section, we will learn how to generate an episode. "
   ]
  },
  {
   "cell_type": "markdown",
   "metadata": {},
   "source": [
    "# Looping Throough Episodes"
   ]
  },
  {
   "cell_type": "code",
   "execution_count": 9,
   "metadata": {},
   "outputs": [
    {
     "name": "stderr",
     "output_type": "stream",
     "text": [
      "1   HIToolbox                           0x00000001ba526d4c _ZN15MenuBarInstance21IsAutoShowHideAllowedEv + 284\n",
      "2   HIToolbox                           0x00000001ba400230 _ZN15MenuBarInstance24UpdateAutoShowVisibilityE5Pointh + 40\n",
      "3   HIToolbox                           0x00000001ba36d30c _ZN15MenuBarInstance16ForEachMenuBarDoEU13block_pointerFvPS_E + 72\n",
      "4   HIToolbox                           0x00000001ba4008a0 _ZN15MenuBarInstance20AutoShowHideObserverEjP14OpaqueEventRefPv + 216\n",
      "5   HIToolbox                           0x00000001ba363cd0 _NotifyEventLoopObservers + 176\n",
      "6   HIToolbox                           0x00000001ba397bb0 PostEventToQueueInternal + 696\n",
      "7   HIToolbox                           0x00000001ba399340 _ZL29CreateAndPostEventWithCGEventP9__CGEventjhP17__CFMachPortBoost + 460\n",
      "8   HIToolbox                           0x00000001ba3a5c28 _ZL15Convert1CGEventh + 264\n",
      "9   HIToolbox                           0x00000001ba3a5ab0 _ZL16MainLoopObserverjP14OpaqueEventRefPv + 56\n",
      "10  HIToolbox                           0x00000001ba363cd0 _NotifyEventLoopObservers + 176\n",
      "11  HIToolbox                           0x00000001ba38bf60 RunCurrentEventLoopInMode + 228\n",
      "12  HIToolbox                           0x00000001ba38bc30 ReceiveNextEventCommon + 236\n",
      "13  HIToolbox                           0x00000001ba38bb2c _BlockUntilNextEventMatchingListInModeWithFilter + 72\n",
      "14  AppKit                              0x00000001b3f38424 _DPSNextEvent + 632\n",
      "15  AppKit                              0x00000001b3f375b4 -[NSApplication(NSEvent) _nextEventMatchingEventMask:untilDate:inMode:dequeue:] + 728\n",
      "16  libSDL2-2.0.0.dylib                 0x000000012c2e29d0 Cocoa_PumpEventsUntilDate + 88\n",
      "17  libSDL2-2.0.0.dylib                 0x000000012c2e2c6c Cocoa_PumpEvents + 56\n",
      "18  libSDL2-2.0.0.dylib                 0x000000012c237d10 SDL_PumpEvents_REAL + 40\n",
      "19  event.cpython-311-darwin.so         0x00000001076e3a54 pg_event_pump + 24\n",
      "20  python3.11                          0x0000000102cc141c cfunction_vectorcall_NOARGS + 88\n",
      "21  python3.11                          0x0000000102da17c4 _PyEval_EvalFrameDefault + 191820\n",
      "22  python3.11                          0x0000000102c5e3cc _PyFunction_Vectorcall + 476\n",
      "23  python3.11                          0x0000000102c63b18 method_vectorcall + 296\n",
      "24  python3.11                          0x0000000102da63f8 _PyEval_EvalFrameDefault + 211328\n",
      "25  python3.11                          0x0000000102c5e3cc _PyFunction_Vectorcall + 476\n",
      "26  python3.11                          0x0000000102c63b18 method_vectorcall + 296\n",
      "27  python3.11                          0x0000000102da63f8 _PyEval_EvalFrameDefault + 211328\n",
      "28  python3.11                          0x0000000102c5e3cc _PyFunction_Vectorcall + 476\n",
      "29  python3.11                          0x0000000102c63b18 method_vectorcall + 296\n",
      "30  python3.11                          0x0000000102da63f8 _PyEval_EvalFrameDefault + 211328\n",
      "31  python3.11                          0x0000000102d7043c _PyEval_Vector + 464\n",
      "32  python3.11                          0x0000000102d701dc PyEval_EvalCode + 248\n",
      "33  python3.11                          0x0000000102d6ae98 builtin_exec + 332\n",
      "34  python3.11                          0x0000000102da50c8 _PyEval_EvalFrameDefault + 206416\n",
      "35  python3.11                          0x0000000102c7aa58 gen_send_ex2 + 204\n",
      "36  python3.11                          0x0000000102d7e7f8 _PyEval_EvalFrameDefault + 48512\n",
      "37  python3.11                          0x0000000102c7aa58 gen_send_ex2 + 204\n",
      "38  python3.11                          0x0000000102d7e7f8 _PyEval_EvalFrameDefault + 48512\n",
      "39  python3.11                          0x0000000102c7aa58 gen_send_ex2 + 204\n",
      "40  python3.11                          0x0000000102c7b1b0 gen_send + 52\n",
      "41  python3.11                          0x0000000102da57bc _PyEval_EvalFrameDefault + 208196\n",
      "42  python3.11                          0x0000000102c5e3cc _PyFunction_Vectorcall + 476\n",
      "43  python3.11                          0x0000000102c63b18 method_vectorcall + 296\n",
      "44  python3.11                          0x0000000102da63f8 _PyEval_EvalFrameDefault + 211328\n",
      "45  python3.11                          0x0000000102c7aa58 gen_send_ex2 + 204\n",
      "46  python3.11                          0x0000000102d7e7f8 _PyEval_EvalFrameDefault + 48512\n",
      "47  python3.11                          0x0000000102c7aa58 gen_send_ex2 + 204\n",
      "48  python3.11                          0x0000000102d7e7f8 _PyEval_EvalFrameDefault + 48512\n",
      "49  python3.11                          0x0000000102c7aa58 gen_send_ex2 + 204\n",
      "50  python3.11                          0x0000000102d7e7f8 _PyEval_EvalFrameDefault + 48512\n",
      "51  python3.11                          0x0000000102c7aa58 gen_send_ex2 + 204\n",
      "52  python3.11                          0x0000000102d7e7f8 _PyEval_EvalFrameDefault + 48512\n",
      "53  python3.11                          0x0000000102c7aa58 gen_send_ex2 + 204\n",
      "54  _asyncio.cpython-311-darwin.so      0x0000000103d70370 task_step_impl + 440\n",
      "55  _asyncio.cpython-311-darwin.so      0x0000000103d70128 task_step + 68\n",
      "56  _asyncio.cpython-311-darwin.so      0x0000000103d70c30 task_wakeup + 136\n",
      "57  python3.11                          0x0000000102cc12cc cfunction_vectorcall_O + 92\n",
      "58  python3.11                          0x0000000102dc6d5c _PyObject_VectorcallTstate.4607 + 88\n",
      "59  python3.11                          0x0000000102dc6c20 context_run + 92\n",
      "60  python3.11                          0x0000000102cc1538 cfunction_vectorcall_FASTCALL_KEYWORDS + 76\n",
      "61  python3.11                          0x0000000102da64a0 _PyEval_EvalFrameDefault + 211496\n",
      "62  python3.11                          0x0000000102d7043c _PyEval_Vector + 464\n",
      "63  python3.11                          0x0000000102d701dc PyEval_EvalCode + 248\n",
      "64  python3.11                          0x0000000102d6ae98 builtin_exec + 332\n",
      "65  python3.11                          0x0000000102cc1538 cfunction_vectorcall_FASTCALL_KEYWORDS + 76\n",
      "66  python3.11                          0x0000000102da17c4 _PyEval_EvalFrameDefault + 191820\n",
      "67  python3.11                          0x0000000102c5e3cc _PyFunction_Vectorcall + 476\n",
      "68  python3.11                          0x0000000102e2849c pymain_run_module + 212\n",
      "69  python3.11                          0x0000000102e27fe8 Py_RunMain + 1520\n",
      "70  python3.11                          0x0000000102bf553c main + 56\n",
      "71  dyld                                0x00000001b08afe50 start + 2544\n",
      "1   HIToolbox                           0x00000001ba38b90c _ZN15MenuBarInstance22RemoveAutoShowObserverEv + 44\n",
      "2   HIToolbox                           0x00000001ba3a3214 SetMenuBarObscured + 120\n",
      "3   HIToolbox                           0x00000001ba3aa390 _ZN13HIApplication11FrontUILostEv + 44\n",
      "4   HIToolbox                           0x00000001ba3a304c _ZN13HIApplication15HandleActivatedEP14OpaqueEventRefhP15OpaqueWindowPtrh + 528\n",
      "5   HIToolbox                           0x00000001ba39cf70 _ZN13HIApplication13EventObserverEjP14OpaqueEventRefPv + 204\n",
      "6   HIToolbox                           0x00000001ba363cd0 _NotifyEventLoopObservers + 176\n",
      "7   HIToolbox                           0x00000001ba39c96c AcquireEventFromQueue + 432\n",
      "8   HIToolbox                           0x00000001ba38bc84 ReceiveNextEventCommon + 320\n",
      "9   HIToolbox                           0x00000001ba38bb2c _BlockUntilNextEventMatchingListInModeWithFilter + 72\n",
      "10  AppKit                              0x00000001b3f38424 _DPSNextEvent + 632\n",
      "11  AppKit                              0x00000001b3f375b4 -[NSApplication(NSEvent) _nextEventMatchingEventMask:untilDate:inMode:dequeue:] + 728\n",
      "12  libSDL2-2.0.0.dylib                 0x000000012c2e2a38 Cocoa_PumpEventsUntilDate + 192\n",
      "13  libSDL2-2.0.0.dylib                 0x000000012c2e2c6c Cocoa_PumpEvents + 56\n",
      "14  libSDL2-2.0.0.dylib                 0x000000012c237d10 SDL_PumpEvents_REAL + 40\n",
      "15  event.cpython-311-darwin.so         0x00000001076e3a54 pg_event_pump + 24\n",
      "16  python3.11                          0x0000000102cc141c cfunction_vectorcall_NOARGS + 88\n",
      "17  python3.11                          0x0000000102da17c4 _PyEval_EvalFrameDefault + 191820\n",
      "18  python3.11                          0x0000000102c5e3cc _PyFunction_Vectorcall + 476\n",
      "19  python3.11                          0x0000000102c63b18 method_vectorcall + 296\n",
      "20  python3.11                          0x0000000102da63f8 _PyEval_EvalFrameDefault + 211328\n",
      "21  python3.11                          0x0000000102c5e3cc _PyFunction_Vectorcall + 476\n",
      "22  python3.11                          0x0000000102c63b18 method_vectorcall + 296\n",
      "23  python3.11                          0x0000000102da63f8 _PyEval_EvalFrameDefault + 211328\n",
      "24  python3.11                          0x0000000102c5e3cc _PyFunction_Vectorcall + 476\n",
      "25  python3.11                          0x0000000102c63b18 method_vectorcall + 296\n",
      "26  python3.11                          0x0000000102da63f8 _PyEval_EvalFrameDefault + 211328\n",
      "27  python3.11                          0x0000000102d7043c _PyEval_Vector + 464\n",
      "28  python3.11                          0x0000000102d701dc PyEval_EvalCode + 248\n",
      "29  python3.11                          0x0000000102d6ae98 builtin_exec + 332\n",
      "30  python3.11                          0x0000000102da50c8 _PyEval_EvalFrameDefault + 206416\n",
      "31  python3.11                          0x0000000102c7aa58 gen_send_ex2 + 204\n",
      "32  python3.11                          0x0000000102d7e7f8 _PyEval_EvalFrameDefault + 48512\n",
      "33  python3.11                          0x0000000102c7aa58 gen_send_ex2 + 204\n",
      "34  python3.11                          0x0000000102d7e7f8 _PyEval_EvalFrameDefault + 48512\n",
      "35  python3.11                          0x0000000102c7aa58 gen_send_ex2 + 204\n",
      "36  python3.11                          0x0000000102c7b1b0 gen_send + 52\n",
      "37  python3.11                          0x0000000102da57bc _PyEval_EvalFrameDefault + 208196\n",
      "38  python3.11                          0x0000000102c5e3cc _PyFunction_Vectorcall + 476\n",
      "39  python3.11                          0x0000000102c63b18 method_vectorcall + 296\n",
      "40  python3.11                          0x0000000102da63f8 _PyEval_EvalFrameDefault + 211328\n",
      "41  python3.11                          0x0000000102c7aa58 gen_send_ex2 + 204\n",
      "42  python3.11                          0x0000000102d7e7f8 _PyEval_EvalFrameDefault + 48512\n",
      "43  python3.11                          0x0000000102c7aa58 gen_send_ex2 + 204\n",
      "44  python3.11                          0x0000000102d7e7f8 _PyEval_EvalFrameDefault + 48512\n",
      "45  python3.11                          0x0000000102c7aa58 gen_send_ex2 + 204\n",
      "46  python3.11                          0x0000000102d7e7f8 _PyEval_EvalFrameDefault + 48512\n",
      "47  python3.11                          0x0000000102c7aa58 gen_send_ex2 + 204\n",
      "48  python3.11                          0x0000000102d7e7f8 _PyEval_EvalFrameDefault + 48512\n",
      "49  python3.11                          0x0000000102c7aa58 gen_send_ex2 + 204\n",
      "50  _asyncio.cpython-311-darwin.so      0x0000000103d70370 task_step_impl + 440\n",
      "51  _asyncio.cpython-311-darwin.so      0x0000000103d70128 task_step + 68\n",
      "52  _asyncio.cpython-311-darwin.so      0x0000000103d70c30 task_wakeup + 136\n",
      "53  python3.11                          0x0000000102cc12cc cfunction_vectorcall_O + 92\n",
      "54  python3.11                          0x0000000102dc6d5c _PyObject_VectorcallTstate.4607 + 88\n",
      "55  python3.11                          0x0000000102dc6c20 context_run + 92\n",
      "56  python3.11                          0x0000000102cc1538 cfunction_vectorcall_FASTCALL_KEYWORDS + 76\n",
      "57  python3.11                          0x0000000102da64a0 _PyEval_EvalFrameDefault + 211496\n",
      "58  python3.11                          0x0000000102d7043c _PyEval_Vector + 464\n",
      "59  python3.11                          0x0000000102d701dc PyEval_EvalCode + 248\n",
      "60  python3.11                          0x0000000102d6ae98 builtin_exec + 332\n",
      "61  python3.11                          0x0000000102cc1538 cfunction_vectorcall_FASTCALL_KEYWORDS + 76\n",
      "62  python3.11                          0x0000000102da17c4 _PyEval_EvalFrameDefault + 191820\n",
      "63  python3.11                          0x0000000102c5e3cc _PyFunction_Vectorcall + 476\n",
      "64  python3.11                          0x0000000102e2849c pymain_run_module + 212\n",
      "65  python3.11                          0x0000000102e27fe8 Py_RunMain + 1520\n",
      "66  python3.11                          0x0000000102bf553c main + 56\n",
      "67  dyld                                0x00000001b08afe50 start + 2544\n",
      "1   HIToolbox                           0x00000001ba526d4c _ZN15MenuBarInstance21IsAutoShowHideAllowedEv + 284\n",
      "2   HIToolbox                           0x00000001ba400230 _ZN15MenuBarInstance24UpdateAutoShowVisibilityE5Pointh + 40\n",
      "3   HIToolbox                           0x00000001ba404380 _ZL19AutoShowHideHandlerP25OpaqueEventHandlerCallRefP14OpaqueEventRefPv + 104\n",
      "4   HIToolbox                           0x00000001ba3644c0 _ZL23DispatchEventToHandlersP14EventTargetRecP14OpaqueEventRefP14HandlerCallRec + 1092\n",
      "5   HIToolbox                           0x00000001ba363940 _ZL30SendEventToEventTargetInternalP14OpaqueEventRefP20OpaqueEventTargetRefP14HandlerCallRec + 356\n",
      "6   HIToolbox                           0x00000001ba3637d0 SendEventToEventTargetWithOptions + 44\n",
      "7   HIToolbox                           0x00000001ba3a39cc _ZL29ToolboxEventDispatcherHandlerP25OpaqueEventHandlerCallRefP14OpaqueEventRefPv + 472\n",
      "8   HIToolbox                           0x00000001ba364968 _ZL23DispatchEventToHandlersP14EventTargetRecP14OpaqueEventRefP14HandlerCallRec + 2284\n",
      "9   HIToolbox                           0x00000001ba363940 _ZL30SendEventToEventTargetInternalP14OpaqueEventRefP20OpaqueEventTargetRefP14HandlerCallRec + 356\n",
      "10  HIToolbox                           0x00000001ba379bb8 SendEventToEventTarget + 40\n",
      "11  AppKit                              0x00000001b3f37ad8 -[NSApplication(NSEvent) _nextEventMatchingEventMask:untilDate:inMode:dequeue:] + 2044\n",
      "12  libSDL2-2.0.0.dylib                 0x000000012c2e2a38 Cocoa_PumpEventsUntilDate + 192\n",
      "13  libSDL2-2.0.0.dylib                 0x000000012c2e2c6c Cocoa_PumpEvents + 56\n",
      "14  libSDL2-2.0.0.dylib                 0x000000012c237d10 SDL_PumpEvents_REAL + 40\n",
      "15  event.cpython-311-darwin.so         0x00000001076e3a54 pg_event_pump + 24\n",
      "16  python3.11                          0x0000000102cc141c cfunction_vectorcall_NOARGS + 88\n",
      "17  python3.11                          0x0000000102da17c4 _PyEval_EvalFrameDefault + 191820\n",
      "18  python3.11                          0x0000000102c5e3cc _PyFunction_Vectorcall + 476\n",
      "19  python3.11                          0x0000000102c63b18 method_vectorcall + 296\n",
      "20  python3.11                          0x0000000102da63f8 _PyEval_EvalFrameDefault + 211328\n",
      "21  python3.11                          0x0000000102c5e3cc _PyFunction_Vectorcall + 476\n",
      "22  python3.11                          0x0000000102c63b18 method_vectorcall + 296\n",
      "23  python3.11                          0x0000000102da63f8 _PyEval_EvalFrameDefault + 211328\n",
      "24  python3.11                          0x0000000102c5e3cc _PyFunction_Vectorcall + 476\n",
      "25  python3.11                          0x0000000102c63b18 method_vectorcall + 296\n",
      "26  python3.11                          0x0000000102da63f8 _PyEval_EvalFrameDefault + 211328\n",
      "27  python3.11                          0x0000000102d7043c _PyEval_Vector + 464\n",
      "28  python3.11                          0x0000000102d701dc PyEval_EvalCode + 248\n",
      "29  python3.11                          0x0000000102d6ae98 builtin_exec + 332\n",
      "30  python3.11                          0x0000000102da50c8 _PyEval_EvalFrameDefault + 206416\n",
      "31  python3.11                          0x0000000102c7aa58 gen_send_ex2 + 204\n",
      "32  python3.11                          0x0000000102d7e7f8 _PyEval_EvalFrameDefault + 48512\n",
      "33  python3.11                          0x0000000102c7aa58 gen_send_ex2 + 204\n",
      "34  python3.11                          0x0000000102d7e7f8 _PyEval_EvalFrameDefault + 48512\n",
      "35  python3.11                          0x0000000102c7aa58 gen_send_ex2 + 204\n",
      "36  python3.11                          0x0000000102c7b1b0 gen_send + 52\n",
      "37  python3.11                          0x0000000102da57bc _PyEval_EvalFrameDefault + 208196\n",
      "38  python3.11                          0x0000000102c5e3cc _PyFunction_Vectorcall + 476\n",
      "39  python3.11                          0x0000000102c63b18 method_vectorcall + 296\n",
      "40  python3.11                          0x0000000102da63f8 _PyEval_EvalFrameDefault + 211328\n",
      "41  python3.11                          0x0000000102c7aa58 gen_send_ex2 + 204\n",
      "42  python3.11                          0x0000000102d7e7f8 _PyEval_EvalFrameDefault + 48512\n",
      "43  python3.11                          0x0000000102c7aa58 gen_send_ex2 + 204\n",
      "44  python3.11                          0x0000000102d7e7f8 _PyEval_EvalFrameDefault + 48512\n",
      "45  python3.11                          0x0000000102c7aa58 gen_send_ex2 + 204\n",
      "46  python3.11                          0x0000000102d7e7f8 _PyEval_EvalFrameDefault + 48512\n",
      "47  python3.11                          0x0000000102c7aa58 gen_send_ex2 + 204\n",
      "48  python3.11                          0x0000000102d7e7f8 _PyEval_EvalFrameDefault + 48512\n",
      "49  python3.11                          0x0000000102c7aa58 gen_send_ex2 + 204\n",
      "50  _asyncio.cpython-311-darwin.so      0x0000000103d70370 task_step_impl + 440\n",
      "51  _asyncio.cpython-311-darwin.so      0x0000000103d70128 task_step + 68\n",
      "52  _asyncio.cpython-311-darwin.so      0x0000000103d70c30 task_wakeup + 136\n",
      "53  python3.11                          0x0000000102cc12cc cfunction_vectorcall_O + 92\n",
      "54  python3.11                          0x0000000102dc6d5c _PyObject_VectorcallTstate.4607 + 88\n",
      "55  python3.11                          0x0000000102dc6c20 context_run + 92\n",
      "56  python3.11                          0x0000000102cc1538 cfunction_vectorcall_FASTCALL_KEYWORDS + 76\n",
      "57  python3.11                          0x0000000102da64a0 _PyEval_EvalFrameDefault + 211496\n",
      "58  python3.11                          0x0000000102d7043c _PyEval_Vector + 464\n",
      "59  python3.11                          0x0000000102d701dc PyEval_EvalCode + 248\n",
      "60  python3.11                          0x0000000102d6ae98 builtin_exec + 332\n",
      "61  python3.11                          0x0000000102cc1538 cfunction_vectorcall_FASTCALL_KEYWORDS + 76\n",
      "62  python3.11                          0x0000000102da17c4 _PyEval_EvalFrameDefault + 191820\n",
      "63  python3.11                          0x0000000102c5e3cc _PyFunction_Vectorcall + 476\n",
      "64  python3.11                          0x0000000102e2849c pymain_run_module + 212\n",
      "65  python3.11                          0x0000000102e27fe8 Py_RunMain + 1520\n",
      "66  python3.11                          0x0000000102bf553c main + 56\n",
      "67  dyld                                0x00000001b08afe50 start + 2544\n",
      "1   HIToolbox                           0x00000001ba4005c8 _ZN15MenuBarInstance22EnsureAutoShowObserverEv + 120\n",
      "2   HIToolbox                           0x00000001ba3a3214 SetMenuBarObscured + 120\n",
      "3   HIToolbox                           0x00000001ba3aa390 _ZN13HIApplication11FrontUILostEv + 44\n",
      "4   HIToolbox                           0x00000001ba3a304c _ZN13HIApplication15HandleActivatedEP14OpaqueEventRefhP15OpaqueWindowPtrh + 528\n",
      "5   HIToolbox                           0x00000001ba39cf70 _ZN13HIApplication13EventObserverEjP14OpaqueEventRefPv + 204\n",
      "6   HIToolbox                           0x00000001ba363cd0 _NotifyEventLoopObservers + 176\n",
      "7   HIToolbox                           0x00000001ba39c96c AcquireEventFromQueue + 432\n",
      "8   HIToolbox                           0x00000001ba38bc84 ReceiveNextEventCommon + 320\n",
      "9   HIToolbox                           0x00000001ba38bb2c _BlockUntilNextEventMatchingListInModeWithFilter + 72\n",
      "10  AppKit                              0x00000001b3f38424 _DPSNextEvent + 632\n",
      "11  AppKit                              0x00000001b3f375b4 -[NSApplication(NSEvent) _nextEventMatchingEventMask:untilDate:inMode:dequeue:] + 728\n",
      "12  libSDL2-2.0.0.dylib                 0x000000012c2e2a38 Cocoa_PumpEventsUntilDate + 192\n",
      "13  libSDL2-2.0.0.dylib                 0x000000012c2e2c6c Cocoa_PumpEvents + 56\n",
      "14  libSDL2-2.0.0.dylib                 0x000000012c237d10 SDL_PumpEvents_REAL + 40\n",
      "15  event.cpython-311-darwin.so         0x00000001076e3a54 pg_event_pump + 24\n",
      "16  python3.11                          0x0000000102cc141c cfunction_vectorcall_NOARGS + 88\n",
      "17  python3.11                          0x0000000102da17c4 _PyEval_EvalFrameDefault + 191820\n",
      "18  python3.11                          0x0000000102c5e3cc _PyFunction_Vectorcall + 476\n",
      "19  python3.11                          0x0000000102c63b18 method_vectorcall + 296\n",
      "20  python3.11                          0x0000000102da63f8 _PyEval_EvalFrameDefault + 211328\n",
      "21  python3.11                          0x0000000102c5e3cc _PyFunction_Vectorcall + 476\n",
      "22  python3.11                          0x0000000102c63b18 method_vectorcall + 296\n",
      "23  python3.11                          0x0000000102da63f8 _PyEval_EvalFrameDefault + 211328\n",
      "24  python3.11                          0x0000000102c5e3cc _PyFunction_Vectorcall + 476\n",
      "25  python3.11                          0x0000000102c63b18 method_vectorcall + 296\n",
      "26  python3.11                          0x0000000102da63f8 _PyEval_EvalFrameDefault + 211328\n",
      "27  python3.11                          0x0000000102d7043c _PyEval_Vector + 464\n",
      "28  python3.11                          0x0000000102d701dc PyEval_EvalCode + 248\n",
      "29  python3.11                          0x0000000102d6ae98 builtin_exec + 332\n",
      "30  python3.11                          0x0000000102da50c8 _PyEval_EvalFrameDefault + 206416\n",
      "31  python3.11                          0x0000000102c7aa58 gen_send_ex2 + 204\n",
      "32  python3.11                          0x0000000102d7e7f8 _PyEval_EvalFrameDefault + 48512\n",
      "33  python3.11                          0x0000000102c7aa58 gen_send_ex2 + 204\n",
      "34  python3.11                          0x0000000102d7e7f8 _PyEval_EvalFrameDefault + 48512\n",
      "35  python3.11                          0x0000000102c7aa58 gen_send_ex2 + 204\n",
      "36  python3.11                          0x0000000102c7b1b0 gen_send + 52\n",
      "37  python3.11                          0x0000000102da57bc _PyEval_EvalFrameDefault + 208196\n",
      "38  python3.11                          0x0000000102c5e3cc _PyFunction_Vectorcall + 476\n",
      "39  python3.11                          0x0000000102c63b18 method_vectorcall + 296\n",
      "40  python3.11                          0x0000000102da63f8 _PyEval_EvalFrameDefault + 211328\n",
      "41  python3.11                          0x0000000102c7aa58 gen_send_ex2 + 204\n",
      "42  python3.11                          0x0000000102d7e7f8 _PyEval_EvalFrameDefault + 48512\n",
      "43  python3.11                          0x0000000102c7aa58 gen_send_ex2 + 204\n",
      "44  python3.11                          0x0000000102d7e7f8 _PyEval_EvalFrameDefault + 48512\n",
      "45  python3.11                          0x0000000102c7aa58 gen_send_ex2 + 204\n",
      "46  python3.11                          0x0000000102d7e7f8 _PyEval_EvalFrameDefault + 48512\n",
      "47  python3.11                          0x0000000102c7aa58 gen_send_ex2 + 204\n",
      "48  python3.11                          0x0000000102d7e7f8 _PyEval_EvalFrameDefault + 48512\n",
      "49  python3.11                          0x0000000102c7aa58 gen_send_ex2 + 204\n",
      "50  _asyncio.cpython-311-darwin.so      0x0000000103d70370 task_step_impl + 440\n",
      "51  _asyncio.cpython-311-darwin.so      0x0000000103d70128 task_step + 68\n",
      "52  _asyncio.cpython-311-darwin.so      0x0000000103d70c30 task_wakeup + 136\n",
      "53  python3.11                          0x0000000102cc12cc cfunction_vectorcall_O + 92\n",
      "54  python3.11                          0x0000000102dc6d5c _PyObject_VectorcallTstate.4607 + 88\n",
      "55  python3.11                          0x0000000102dc6c20 context_run + 92\n",
      "56  python3.11                          0x0000000102cc1538 cfunction_vectorcall_FASTCALL_KEYWORDS + 76\n",
      "57  python3.11                          0x0000000102da64a0 _PyEval_EvalFrameDefault + 211496\n",
      "58  python3.11                          0x0000000102d7043c _PyEval_Vector + 464\n",
      "59  python3.11                          0x0000000102d701dc PyEval_EvalCode + 248\n",
      "60  python3.11                          0x0000000102d6ae98 builtin_exec + 332\n",
      "61  python3.11                          0x0000000102cc1538 cfunction_vectorcall_FASTCALL_KEYWORDS + 76\n",
      "62  python3.11                          0x0000000102da17c4 _PyEval_EvalFrameDefault + 191820\n",
      "63  python3.11                          0x0000000102c5e3cc _PyFunction_Vectorcall + 476\n",
      "64  python3.11                          0x0000000102e2849c pymain_run_module + 212\n",
      "65  python3.11                          0x0000000102e27fe8 Py_RunMain + 1520\n",
      "66  python3.11                          0x0000000102bf553c main + 56\n",
      "67  dyld                                0x00000001b08afe50 start + 2544\n",
      "  0%|          | 0/10 [00:00<?, ?it/s]/opt/anaconda3/lib/python3.11/site-packages/gym/utils/passive_env_checker.py:233: DeprecationWarning: `np.bool8` is a deprecated alias for `np.bool_`.  (Deprecated NumPy 1.24)\n",
      "  if not isinstance(terminated, (bool, np.bool8)):\n",
      " 10%|█         | 1/10 [00:00<00:02,  4.34it/s]"
     ]
    },
    {
     "name": "stdout",
     "output_type": "stream",
     "text": [
      "Observation:  1 \n",
      "Reward:  0.0 \n",
      "Terminated:  False \n",
      "Truncated:  False \n",
      "Info:  {'prob': 0.3333333333333333}\n"
     ]
    },
    {
     "name": "stderr",
     "output_type": "stream",
     "text": [
      " 20%|██        | 2/10 [00:00<00:01,  4.13it/s]"
     ]
    },
    {
     "name": "stdout",
     "output_type": "stream",
     "text": [
      "Observation:  1 \n",
      "Reward:  0.0 \n",
      "Terminated:  False \n",
      "Truncated:  False \n",
      "Info:  {'prob': 0.3333333333333333}\n"
     ]
    },
    {
     "name": "stderr",
     "output_type": "stream",
     "text": [
      " 30%|███       | 3/10 [00:00<00:01,  4.07it/s]"
     ]
    },
    {
     "name": "stdout",
     "output_type": "stream",
     "text": [
      "Observation:  1 \n",
      "Reward:  0.0 \n",
      "Terminated:  False \n",
      "Truncated:  False \n",
      "Info:  {'prob': 0.3333333333333333}\n"
     ]
    },
    {
     "name": "stderr",
     "output_type": "stream",
     "text": [
      " 40%|████      | 4/10 [00:00<00:01,  4.04it/s]"
     ]
    },
    {
     "name": "stdout",
     "output_type": "stream",
     "text": [
      "Observation:  2 \n",
      "Reward:  0.0 \n",
      "Terminated:  False \n",
      "Truncated:  False \n",
      "Info:  {'prob': 0.3333333333333333}\n"
     ]
    },
    {
     "name": "stderr",
     "output_type": "stream",
     "text": [
      " 50%|█████     | 5/10 [00:01<00:01,  4.02it/s]"
     ]
    },
    {
     "name": "stdout",
     "output_type": "stream",
     "text": [
      "Observation:  2 \n",
      "Reward:  0.0 \n",
      "Terminated:  False \n",
      "Truncated:  False \n",
      "Info:  {'prob': 0.3333333333333333}\n"
     ]
    },
    {
     "name": "stderr",
     "output_type": "stream",
     "text": [
      " 60%|██████    | 6/10 [00:01<00:00,  4.00it/s]"
     ]
    },
    {
     "name": "stdout",
     "output_type": "stream",
     "text": [
      "Observation:  6 \n",
      "Reward:  0.0 \n",
      "Terminated:  False \n",
      "Truncated:  False \n",
      "Info:  {'prob': 0.3333333333333333}\n"
     ]
    },
    {
     "name": "stderr",
     "output_type": "stream",
     "text": [
      " 70%|███████   | 7/10 [00:01<00:00,  4.00it/s]"
     ]
    },
    {
     "name": "stdout",
     "output_type": "stream",
     "text": [
      "Observation:  10 \n",
      "Reward:  0.0 \n",
      "Terminated:  False \n",
      "Truncated:  False \n",
      "Info:  {'prob': 0.3333333333333333}\n"
     ]
    },
    {
     "name": "stderr",
     "output_type": "stream",
     "text": [
      " 80%|████████  | 8/10 [00:01<00:00,  3.99it/s]"
     ]
    },
    {
     "name": "stdout",
     "output_type": "stream",
     "text": [
      "Observation:  6 \n",
      "Reward:  0.0 \n",
      "Terminated:  False \n",
      "Truncated:  False \n",
      "Info:  {'prob': 0.3333333333333333}\n"
     ]
    },
    {
     "name": "stderr",
     "output_type": "stream",
     "text": [
      " 90%|█████████ | 9/10 [00:02<00:00,  3.99it/s]"
     ]
    },
    {
     "name": "stdout",
     "output_type": "stream",
     "text": [
      "Observation:  10 \n",
      "Reward:  0.0 \n",
      "Terminated:  False \n",
      "Truncated:  False \n",
      "Info:  {'prob': 0.3333333333333333}\n"
     ]
    },
    {
     "name": "stderr",
     "output_type": "stream",
     "text": [
      "100%|██████████| 10/10 [00:02<00:00,  4.02it/s]"
     ]
    },
    {
     "name": "stdout",
     "output_type": "stream",
     "text": [
      "Observation:  6 \n",
      "Reward:  0.0 \n",
      "Terminated:  False \n",
      "Truncated:  False \n",
      "Info:  {'prob': 0.3333333333333333}\n"
     ]
    },
    {
     "name": "stderr",
     "output_type": "stream",
     "text": [
      "\n"
     ]
    }
   ],
   "source": [
    "from tqdm import tqdm\n",
    "\n",
    "observation, info = env.reset(seed=82)\n",
    "n = 10 # number of episodes\n",
    "for _ in tqdm(range(n)):\n",
    "    action = env.action_space.sample()\n",
    "    observation,reward, terminated, truncated, info = env.step(action)\n",
    "    print(\"Observation: \", observation, \"\\nReward: \", reward, \"\\nTerminated: \", terminated, \"\\nTruncated: \", truncated, \"\\nInfo: \", info);\n",
    "    \n",
    "    if terminated or truncated:\n",
    "        observation, info = env.reset()\n",
    "        \n",
    "env.close()"
   ]
  }
 ],
 "metadata": {
  "kernelspec": {
   "display_name": "Python 3",
   "language": "python",
   "name": "python3"
  },
  "language_info": {
   "codemirror_mode": {
    "name": "ipython",
    "version": 3
   },
   "file_extension": ".py",
   "mimetype": "text/x-python",
   "name": "python",
   "nbconvert_exporter": "python",
   "pygments_lexer": "ipython3",
   "version": "3.11.7"
  }
 },
 "nbformat": 4,
 "nbformat_minor": 2
}
